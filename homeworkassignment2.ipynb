{
 "cells": [
  {
   "cell_type": "markdown",
   "metadata": {},
   "source": [
    "# Assignment 2"
   ]
  },
  {
   "cell_type": "markdown",
   "metadata": {},
   "source": [
    "## Section 4 Lists"
   ]
  },
  {
   "cell_type": "code",
   "execution_count": 99,
   "metadata": {},
   "outputs": [
    {
     "name": "stdout",
     "output_type": "stream",
     "text": [
      "1\n",
      "2\n",
      "3\n",
      "4\n"
     ]
    }
   ],
   "source": [
    "# Exercise 4.1.a\n",
    "def print_list(arr):\n",
    "    for i in range(len(arr)):\n",
    "        print(arr[i])\n",
    "\n",
    "if __name__ == \"__main__\":\n",
    "    arr = [1, 2, 3, 4]\n",
    "    print_list(arr)"
   ]
  },
  {
   "cell_type": "code",
   "execution_count": 100,
   "metadata": {},
   "outputs": [
    {
     "name": "stdout",
     "output_type": "stream",
     "text": [
      "4\n",
      "3\n",
      "2\n",
      "1\n"
     ]
    }
   ],
   "source": [
    "# Exercise 4.1.b\n",
    "def print_list_reverse(arr):\n",
    "    for i in range(len(arr)):\n",
    "        print(arr[len(arr) - i -1])\n",
    "\n",
    "if __name__ == \"__main__\":\n",
    "    arr = [1, 2, 3, 4]\n",
    "    print_list_reverse(arr)"
   ]
  },
  {
   "cell_type": "code",
   "execution_count": 101,
   "metadata": {},
   "outputs": [
    {
     "name": "stdout",
     "output_type": "stream",
     "text": [
      "4\n"
     ]
    }
   ],
   "source": [
    "# Exercise 4.1.c\n",
    "def number_of_elements(arr):\n",
    "    nOE = 0\n",
    "    for i in arr:\n",
    "        nOE += 1\n",
    "    return nOE\n",
    "\n",
    "if __name__ == \"__main__\":\n",
    "    arr = [1, 2, 3, 4]\n",
    "    print(number_of_elements(arr))"
   ]
  },
  {
   "cell_type": "code",
   "execution_count": 102,
   "metadata": {},
   "outputs": [
    {
     "name": "stdout",
     "output_type": "stream",
     "text": [
      "[1, 5, 3, 4]\n",
      "[1, 5, 3, 4]\n",
      "[0, 5, 3, 4]\n"
     ]
    }
   ],
   "source": [
    "# Exercise 4.2\n",
    "a = [1,2,3,4]\n",
    "b = a\n",
    "b[1] = 5\n",
    "print(a)\n",
    "c = a[:]\n",
    "c[2] = 6\n",
    "print(a)\n",
    "\n",
    "def set_first_elem_to_zero(l):\n",
    "    l[0] = 0\n",
    "    return l\n",
    "\n",
    "if __name__ == \"__main__\":\n",
    "    print(set_first_elem_to_zero(a))"
   ]
  },
  {
   "cell_type": "code",
   "execution_count": 103,
   "metadata": {},
   "outputs": [
    {
     "name": "stdout",
     "output_type": "stream",
     "text": [
      "[[], [], []]\n",
      "[[], [], []]\n"
     ]
    }
   ],
   "source": [
    "# Exercise 4.3\n",
    "a = [[]] * 3\n",
    "b = [[] for _ in range(3)]\n",
    "\n",
    "print(a)\n",
    "print(b)\n"
   ]
  },
  {
   "cell_type": "code",
   "execution_count": 104,
   "metadata": {},
   "outputs": [
    {
     "name": "stdout",
     "output_type": "stream",
     "text": [
      "[1, 2, 3, 0]\n"
     ]
    }
   ],
   "source": [
    "#Exercise 4.4\n",
    "\n",
    "def set_zero(l, i):\n",
    "    l[i] = 0\n",
    "\n",
    "if __name__ == \"__main__\":\n",
    "    l = [1,2,3,4]\n",
    "    set_zero(l,3)\n",
    "    print(l)"
   ]
  },
  {
   "cell_type": "code",
   "execution_count": 105,
   "metadata": {},
   "outputs": [
    {
     "name": "stdout",
     "output_type": "stream",
     "text": [
      "[2, 3, 5, 7, 11]\n"
     ]
    }
   ],
   "source": [
    "# Exercise 4.5\n",
    "def up_to_prime(number):\n",
    "    l = []\n",
    "    for j in range(2, number):\n",
    "        isPrime = True\n",
    "        for i in range(2,number):\n",
    "            if(j % i == 0 and j != i):\n",
    "                isPrime = False\n",
    "        if(isPrime == True):\n",
    "                l.append(j)\n",
    "    return l\n",
    "        \n",
    "\n",
    "if __name__ == \"__main__\":\n",
    "    print(up_to_prime(12))"
   ]
  },
  {
   "cell_type": "code",
   "execution_count": 106,
   "metadata": {},
   "outputs": [],
   "source": [
    "# Exercise 4.6\n",
    "i = 4\n",
    "j = 76\n",
    "l = [i, j]\n",
    "l= [i,j]\n",
    "\n"
   ]
  },
  {
   "cell_type": "code",
   "execution_count": 107,
   "metadata": {},
   "outputs": [
    {
     "name": "stdout",
     "output_type": "stream",
     "text": [
      "[1, 3, 5, 7, 9]\n",
      "1\n",
      "3\n",
      "5\n",
      "7\n",
      "9\n"
     ]
    }
   ],
   "source": [
    "# Exercise 4.7\n",
    "\n",
    "def my_filter(l):\n",
    "    non_odd_numbers =[]\n",
    "    for i in l:\n",
    "        if myFunction(i):\n",
    "            non_odd_numbers.append(i)\n",
    "    return non_odd_numbers\n",
    "\n",
    "def myFunction(a):\n",
    "    if a % 2 == 1:\n",
    "        return True\n",
    "    return False\n",
    "\n",
    "if __name__ == \"__main__\":\n",
    "    l = [1,2,3,4,5,6,7,8,9]\n",
    "    print(my_filter(l))\n",
    "    for i in filter(myFunction,l):\n",
    "        print(i)\n"
   ]
  },
  {
   "cell_type": "code",
   "execution_count": 108,
   "metadata": {},
   "outputs": [
    {
     "name": "stdout",
     "output_type": "stream",
     "text": [
      "[1, 3, 3, 6]\n"
     ]
    }
   ],
   "source": [
    "# Exercise 4.8\n",
    "\n",
    "def flatten_list(list_):\n",
    "    flatten_listt = []\n",
    "    for i in list_:\n",
    "        for j in i:\n",
    "            flatten_listt.append(j)\n",
    "    return flatten_listt\n",
    "\n",
    "if __name__ == \"__main__\":\n",
    "    l = [[1,3], [3,6]]\n",
    "    print(flatten_list(l))\n"
   ]
  },
  {
   "cell_type": "code",
   "execution_count": 109,
   "metadata": {},
   "outputs": [
    {
     "name": "stdout",
     "output_type": "stream",
     "text": [
      "today???\n"
     ]
    }
   ],
   "source": [
    "# Exercise 4.9\n",
    "def largestWord(s):\n",
    "\n",
    "    s = sorted(s, key = len)\n",
    "\n",
    "    print(s[-1])\n",
    "\n",
    "if __name__ == \"__main__\":\n",
    "    s = \"Hello, how was the football match earlier today???\"\n",
    "\n",
    "    word = list(s.split(\" \"))\n",
    "    largestWord(word)"
   ]
  },
  {
   "cell_type": "code",
   "execution_count": 110,
   "metadata": {},
   "outputs": [
    {
     "name": "stdout",
     "output_type": "stream",
     "text": [
      "[20, 10, 5, 16, 8, 4, 2, 1]\n"
     ]
    }
   ],
   "source": [
    "# Exercise 4.10.a\n",
    "def collatz_sequence(n):\n",
    "    x = int(n)\n",
    "    sequence = []\n",
    "\n",
    "    while(x != 1):\n",
    "        sequence.append(int(x))\n",
    "        if(x % 2 == 0):\n",
    "            x = x / 2\n",
    "        else:\n",
    "            x = x*3+1\n",
    "    sequence.append(1)\n",
    "    return sequence\n",
    "    \n",
    "if __name__ == \"__main__\":\n",
    "     print(collatz_sequence(20))\n",
    "   \n"
   ]
  },
  {
   "cell_type": "code",
   "execution_count": 111,
   "metadata": {},
   "outputs": [
    {
     "name": "stdout",
     "output_type": "stream",
     "text": [
      "99\n"
     ]
    }
   ],
   "source": [
    "# Exercise 4.10.b\n",
    "def longest_collatz_sequence(n):\n",
    "    x = int(n)\n",
    "    sequence = []\n",
    "    lengt_of_sequence = []\n",
    "    init = 0\n",
    "    for i in range(n):\n",
    "        while(x != 1):\n",
    "            sequence.append(int(x))\n",
    "            if(x % 2 == 0):\n",
    "                x = x / 2\n",
    "            else:\n",
    "                x = x*3+1\n",
    "        sequence.append(1)\n",
    "        lengt_of_sequence.append(len(sequence))\n",
    "    for i in range(n):\n",
    "        if(max(lengt_of_sequence) == lengt_of_sequence[i]):\n",
    "            return i\n",
    "\n",
    "if __name__ == \"__main__\":\n",
    "     print(longest_collatz_sequence(100))"
   ]
  },
  {
   "cell_type": "code",
   "execution_count": 112,
   "metadata": {},
   "outputs": [
    {
     "name": "stdout",
     "output_type": "stream",
     "text": [
      "[1, 3, 6, 4, 7]\n"
     ]
    }
   ],
   "source": [
    "# Exercise 4.11\n",
    "def pivot(x,y):\n",
    "    temp = []\n",
    "    for i in y:\n",
    "        if(i < x):\n",
    "            temp.append(i)\n",
    "    temp.append(x)\n",
    "    for i in y:\n",
    "        if(i > x):\n",
    "            temp.append(i)\n",
    "    return temp\n",
    "\n",
    "\n",
    "if __name__ == \"__main__\":\n",
    "    x = 3\n",
    "    y = [6, 4, 1, 7]\n",
    "    print(pivot(x, y))"
   ]
  },
  {
   "cell_type": "code",
   "execution_count": 113,
   "metadata": {},
   "outputs": [
    {
     "name": "stdout",
     "output_type": "stream",
     "text": [
      "2\n",
      "3\n",
      "4\n",
      "5\n",
      "6\n",
      "7\n",
      "8\n",
      "9\n"
     ]
    }
   ],
   "source": [
    "# Exercise 4.12\n",
    "nums = range(2, 10)\n",
    "for i in range(2, 10):\n",
    "    for i in range(2,10):\n",
    "        nums = filter(lambda x: x != i and x % i != 0, nums)\n",
    "for i in nums:\n",
    "    print (i)\n"
   ]
  },
  {
   "cell_type": "markdown",
   "metadata": {},
   "source": [
    "## Section 5 Tuples"
   ]
  },
  {
   "cell_type": "code",
   "execution_count": 114,
   "metadata": {},
   "outputs": [
    {
     "name": "stdout",
     "output_type": "stream",
     "text": [
      "a:  6\n",
      "b:  5\n"
     ]
    }
   ],
   "source": [
    "# Exercise 5.1: Swapping two values\n",
    "a = 5\n",
    "b = 6\n",
    "a, b = b, a # We can change the variable like this\n",
    "print(\"a: \",a)\n",
    "print(\"b: \", b)"
   ]
  },
  {
   "cell_type": "code",
   "execution_count": 115,
   "metadata": {},
   "outputs": [
    {
     "name": "stdout",
     "output_type": "stream",
     "text": [
      "[(1, 4, 7), (2, 5, 8), (3, 6, 9)]\n"
     ]
    }
   ],
   "source": [
    "# Exercise 5.2: Zip\n",
    "tuple_one_x = (1,2,3)\n",
    "tuple_two_y = (4,5,6)\n",
    "tuple_three_z = (7,8,9)\n",
    "zipped_value = zip(tuple_one_x, tuple_two_y, tuple_three_z)\n",
    "print(list(zipped_value))"
   ]
  },
  {
   "cell_type": "code",
   "execution_count": 116,
   "metadata": {},
   "outputs": [
    {
     "name": "stdout",
     "output_type": "stream",
     "text": [
      "5.196152422706632\n"
     ]
    }
   ],
   "source": [
    "# Exercise 5.3: Distances\n",
    "import math\n",
    "tuple_one_x = (1,2,3)\n",
    "tuple_two_y = (4,5,6)\n",
    "print(math.sqrt(\n",
    "    (math.pow((tuple_two_y[0] - tuple_one_x[0]),2))\n",
    "    +\n",
    "    (math.pow((tuple_two_y[1] - tuple_one_x[1]),2))\n",
    "    +\n",
    "    (math.pow((tuple_two_y[2] - tuple_one_x[2]),2))\n",
    "    ))"
   ]
  },
  {
   "cell_type": "markdown",
   "metadata": {},
   "source": [
    "## Section 6 Dictionaries"
   ]
  },
  {
   "cell_type": "code",
   "execution_count": 117,
   "metadata": {},
   "outputs": [
    {
     "name": "stdout",
     "output_type": "stream",
     "text": [
      "{'brand': 'Ford', 'model': 'Mustang', 'year': 1964}\n"
     ]
    }
   ],
   "source": [
    "# Exercise 6.1 Printing a dictionary\n",
    "\n",
    "def print_key_val(d):\n",
    "    print(d)\n",
    "\n",
    "if __name__ == \"__main__\":\n",
    "    d = {\n",
    "        \"brand\": \"Ford\",\n",
    "        \"model\": \"Mustang\",\n",
    "        \"year\": 1964\n",
    "    }\n",
    "    print_key_val(d)"
   ]
  },
  {
   "cell_type": "code",
   "execution_count": 118,
   "metadata": {},
   "outputs": [
    {
     "name": "stdout",
     "output_type": "stream",
     "text": [
      "{'a': 3, 'b': 2, 'c': 2, 'd': 3}\n",
      "Counter({'a': 3, 'd': 3, 'b': 2, 'c': 2})\n"
     ]
    }
   ],
   "source": [
    "# Exercise 6.2 Histogram\n",
    "from collections import Counter\n",
    "\n",
    "def number_of_occurence(l):\n",
    "    counts = {i:l.count(i) for i in l}\n",
    "    return counts\n",
    "\n",
    "if __name__ == \"__main__\":\n",
    "    l = ['a', 'b', 'a', 'c', 'd', 'd', 'd', 'c', 'a', 'b']\n",
    "    print(number_of_occurence(l))\n",
    "    \n",
    "    # After looking up collections.counter method I found that it is much easier to use than my code.\n",
    "\n",
    "    print(Counter(l))"
   ]
  },
  {
   "cell_type": "code",
   "execution_count": 119,
   "metadata": {},
   "outputs": [],
   "source": [
    "# Exercise 6.3\n",
    "# The code I wrote previously cannot be changed into using get method."
   ]
  },
  {
   "cell_type": "code",
   "execution_count": 120,
   "metadata": {},
   "outputs": [],
   "source": [
    "# Exercise 6.4 Random text generator"
   ]
  },
  {
   "cell_type": "code",
   "execution_count": 121,
   "metadata": {},
   "outputs": [],
   "source": [
    "# Exercise 6.5 Vector functions"
   ]
  },
  {
   "cell_type": "code",
   "execution_count": 122,
   "metadata": {},
   "outputs": [
    {
     "name": "stdout",
     "output_type": "stream",
     "text": [
      "a\n"
     ]
    }
   ],
   "source": [
    "# Exercise 6.6 Reverse look-up\n",
    "def reverse_look_up(d, v):\n",
    "    dict(d)\n",
    "    for i in d.keys():\n",
    "        if d.get(i) == v:\n",
    "            return i\n",
    "\n",
    "if __name__ == \"__main__\":\n",
    "    d = {'a': 3, 'b': 2, 'c': 2, 'd': 3}\n",
    "    print(reverse_look_up(d, 3))\n",
    "\n",
    "# The problem with this question is that values are not unique so that we cannot be certain that our key will be the key we search"
   ]
  }
 ],
 "metadata": {
  "interpreter": {
   "hash": "cd75ca3bb5c5b4b4c1400c29fc6502d067ddfc795e9c6c6841674ac272c7eff9"
  },
  "kernelspec": {
   "display_name": "Python 3.9.10 64-bit (windows store)",
   "language": "python",
   "name": "python3"
  },
  "language_info": {
   "codemirror_mode": {
    "name": "ipython",
    "version": 3
   },
   "file_extension": ".py",
   "mimetype": "text/x-python",
   "name": "python",
   "nbconvert_exporter": "python",
   "pygments_lexer": "ipython3",
   "version": "3.9.10"
  },
  "orig_nbformat": 4
 },
 "nbformat": 4,
 "nbformat_minor": 2
}
